{
 "cells": [
  {
   "cell_type": "markdown",
   "metadata": {},
   "source": [
    "# Task: Making `Complex_Numbers` Package:"
   ]
  },
  {
   "cell_type": "markdown",
   "metadata": {},
   "source": [
    "Note:\n",
    "\n",
    "* You are not allowed to use any internal `complex number` library or a python package that handle complex numbers.\n",
    "* You can use other internal libraries if you like.\n",
    "\n",
    "Define a class called `complex_number` which accepts 2 parameters:\n",
    "\n",
    "* x: int64, float64, represents real component of the complex number\n",
    "* y: int64, float64, represents imaginary component of the complex number\n",
    "\n",
    "Example, `complex_number(3, 5)` means 3 is the real part of the complex number and 5 is the imaginary part of the complex number. Such a number is represented as 3 + 5i.\n",
    "\n",
    "Here is [a resource](http://www.careerbless.com/aptitude/qa/complex_numbers_imp.php) to help you with the required information to solve this assignment. You can take help from other online resources as well.\n",
    "\n",
    "### Questions:\n",
    "\n",
    "Define the follwoing operations for the class: \n",
    "\n",
    "* representation in the form of x + yi when used with `print` command\n",
    "* '+'\n",
    "* '-'\n",
    "* '*'\n",
    "* '/'\n",
    "* abs()\n",
    "\n",
    "* Note that these operations should be compatible with `int` and `float` datatypes as well\n",
    "\n",
    "Also, define following methods.\n",
    "\n",
    "\n",
    "* real() [Returns real component of the complex number]\n",
    "* imag() [Returns complex component of the complex number]\n",
    "* argument() [Returns argument of the complex number]\n",
    "* conjugate() [Returns conjugate of the complex number]\n",
    "\n",
    "Include error handling"
   ]
  }
 ],
 "metadata": {
  "kernelspec": {
   "display_name": "Python 2",
   "language": "python",
   "name": "python2"
  },
  "language_info": {
   "codemirror_mode": {
    "name": "ipython",
    "version": 2
   },
   "file_extension": ".py",
   "mimetype": "text/x-python",
   "name": "python",
   "nbconvert_exporter": "python",
   "pygments_lexer": "ipython2",
   "version": "2.7.13"
  },
  "widgets": {
   "state": {},
   "version": "1.1.2"
  }
 },
 "nbformat": 4,
 "nbformat_minor": 2
}
